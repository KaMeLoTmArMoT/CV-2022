{
 "cells": [
  {
   "cell_type": "markdown",
   "source": [
    "# Виконати детекцію границь на зображеннях за допомогою операторів:\n",
    "# * Roberts\n",
    "# * Sobel\n",
    "# Провести порівняльний аналіз."
   ],
   "metadata": {
    "collapsed": false,
    "pycharm": {
     "name": "#%% md\n"
    }
   }
  },
  {
   "cell_type": "code",
   "execution_count": 71,
   "metadata": {
    "collapsed": true,
    "pycharm": {
     "name": "#%%\n"
    }
   },
   "outputs": [],
   "source": [
    "import os\n",
    "import cv2\n",
    "import pickle\n",
    "import numpy as np\n",
    "from tqdm import tqdm\n",
    "import matplotlib.pyplot as plt\n",
    "\n",
    "from cv.helpers import *\n",
    "\n",
    "from IPython.core.display_functions import clear_output\n",
    "\n",
    "x_sobel = np.array([\n",
    "    [-1, 0, 1],\n",
    "    [-2, 0, 2],\n",
    "    [-1, 0, 1]\n",
    "], dtype=np.float32)\n",
    "y_sobel = np.array([\n",
    "    [-1, -2, -1],\n",
    "    [0, 0, 0],\n",
    "    [1, 2, 1]\n",
    "], dtype=np.float32)\n",
    "\n",
    "x_roberts = np.array([\n",
    "    [1, 0],\n",
    "    [0, -1]\n",
    "], dtype=np.float32)\n",
    "y_roberts = np.array([\n",
    "    [0, -1],\n",
    "    [1, 0]\n",
    "], dtype=np.float32)\n",
    "\n",
    "def point_operation(img, K, L):\n",
    "    img = img * K + L\n",
    "    img[img > 255] = 255\n",
    "    img[img < 0] = 0\n",
    "    return np.asarray(img, dtype=np.uint8)"
   ]
  },
  {
   "cell_type": "code",
   "execution_count": 72,
   "outputs": [
    {
     "data": {
      "text/plain": "113"
     },
     "execution_count": 72,
     "metadata": {},
     "output_type": "execute_result"
    }
   ],
   "source": [
    "im = cv2.imread('src/im1.png')\n",
    "gray = cv2.cvtColor(im, cv2.COLOR_BGR2GRAY)\n",
    "show(im)"
   ],
   "metadata": {
    "collapsed": false,
    "pycharm": {
     "name": "#%%\n"
    }
   }
  },
  {
   "cell_type": "code",
   "execution_count": 73,
   "outputs": [
    {
     "data": {
      "text/plain": "113"
     },
     "execution_count": 73,
     "metadata": {},
     "output_type": "execute_result"
    }
   ],
   "source": [
    "# noise add\n",
    "noise = cv2.randu(np.zeros(gray.shape), 0, 255)\n",
    "noisy_gray = gray + np.array(0.5 * noise, dtype=np.float32)\n",
    "show_2(gray, noisy_gray)\n",
    "\n",
    "# point operation\n",
    "show_2(gray, point_operation(gray, 0.5, 125))\n",
    "\n",
    "# blur effect\n",
    "size = 3\n",
    "blur = np.ones((size, size), np.float32) / size ** 2\n",
    "show_2(gray, cv2.filter2D(gray, -1, blur))\n",
    "\n",
    "# lib filters\n",
    "show_2(cv2.filter2D(gray, -1, x_sobel), cv2.filter2D(gray, -1, y_sobel))\n",
    "show_2(cv2.filter2D(gray, -1, x_roberts), cv2.filter2D(gray, -1, y_roberts))"
   ],
   "metadata": {
    "collapsed": false,
    "pycharm": {
     "name": "#%%\n"
    }
   }
  },
  {
   "cell_type": "code",
   "execution_count": 74,
   "outputs": [],
   "source": [
    "def get_surround_mtx(img, krn, i, j, inter):\n",
    "    rows, cols = img.shape[:2]\n",
    "    k_rows, k_cols = krn.shape[:2]\n",
    "\n",
    "    mtx = np.ndarray((k_rows, k_cols), dtype=np.float32)\n",
    "\n",
    "    for k in range(k_rows):\n",
    "        for l in range(k_cols):\n",
    "            k_i, l_i = k - 1 + i, l - 1 + j # step back values\n",
    "\n",
    "            if 0 > k_i or k + i > rows or 0 > l_i or l + j > cols:  # out of bounds\n",
    "                if inter:\n",
    "                    mtx[k, l] = img[i, j]  # fake interpolation\n",
    "                else:\n",
    "                    mtx[k, l] = 0  # no interpolation\n",
    "            else:\n",
    "                mtx[k, l] = img[k_i, l_i]\n",
    "\n",
    "    return mtx\n",
    "\n",
    "\n",
    "def apply_kernel(img, krn, inter=False):\n",
    "    if len(img.shape) == 3:\n",
    "        rows, cols, dim = img.shape\n",
    "        new_img = np.zeros((rows, cols, dim), dtype=np.float32)\n",
    "    else:\n",
    "        (rows, cols), dim = img.shape, 0\n",
    "        new_img = np.zeros((rows, cols), dtype=np.float32)\n",
    "\n",
    "    for i in tqdm(range(rows)):\n",
    "        for j in range(cols):\n",
    "            if dim == 0:\n",
    "                mtx = get_surround_mtx(img, krn, i, j, inter)\n",
    "                new_img[i, j] = (mtx * krn).sum()\n",
    "            else:\n",
    "                for d in range(dim):\n",
    "                    tm_im = img[:,:,d]  # get 1 of colors R / G / B\n",
    "                    mtx = get_surround_mtx(tm_im, krn, i, j, inter)\n",
    "                    new_img[i, j, d] = (mtx * krn).sum()\n",
    "\n",
    "            new_img[new_img > 255] = 255\n",
    "            new_img[new_img < 0] = 0\n",
    "    return np.asarray(new_img, dtype=np.float32)\n",
    "\n",
    "\n",
    "def process(pth, kernel, ratio=0, interpolate=False, grayscale=False):\n",
    "    img = cv2.imread(pth)\n",
    "\n",
    "    if ratio != 0:\n",
    "        img = cv2.resize(img, (0, 0), fx=ratio, fy=ratio)\n",
    "\n",
    "    if grayscale:\n",
    "        img = cv2.cvtColor(img, cv2.COLOR_BGR2GRAY)\n",
    "\n",
    "    my = apply_kernel(img, kernel, interpolate)\n",
    "    lib = cv2.filter2D(img, -1, kernel)\n",
    "\n",
    "    return my, lib"
   ],
   "metadata": {
    "collapsed": false,
    "pycharm": {
     "name": "#%%\n"
    }
   }
  },
  {
   "cell_type": "code",
   "execution_count": 75,
   "outputs": [],
   "source": [
    "im_pths = ['src/im1.png', 'src/im2.png', 'src/im3.png', 'src/im4.png', 'src/im5.png']\n",
    "im_kernels = [(x_sobel, 'x_sobel'), (y_sobel, 'y_sobel'), (x_roberts, 'x_roberts'), (y_roberts, 'y_roberts')]\n",
    "\n",
    "if os.path.exists('results.pkl'):\n",
    "    results = pickle.load(open(\"results.pkl\", 'rb'))\n",
    "else:\n",
    "    results = []\n",
    "    for im_pth in im_pths:\n",
    "        print(im_pth, end=' ')\n",
    "        for im_kernel, k_name in im_kernels:\n",
    "            results.append((process(im_pth, im_kernel, ratio=0.6, grayscale=True), k_name))\n",
    "    pickle.dump(results, open(\"results.pkl\", \"wb\"))"
   ],
   "metadata": {
    "collapsed": false,
    "pycharm": {
     "name": "#%%\n"
    }
   }
  },
  {
   "cell_type": "code",
   "execution_count": 78,
   "outputs": [],
   "source": [
    "def iter_view(res):\n",
    "    idx = 0\n",
    "    while True:\n",
    "        imgs, name = res[idx]\n",
    "        key = show_2(*imgs, name=name)\n",
    "\n",
    "        if key & 0xFF == ord('a'):\n",
    "            if idx == 0:\n",
    "                idx = len(results) - 1\n",
    "            else:\n",
    "                idx -= 1\n",
    "        elif key & 0xFF == ord('d'):\n",
    "            if idx == len(results) - 1:\n",
    "                idx = 0\n",
    "            else:\n",
    "                idx += 1\n",
    "        elif key & 0xFF == ord('q'):\n",
    "            break\n",
    "\n",
    "iter_view(results)"
   ],
   "metadata": {
    "collapsed": false,
    "pycharm": {
     "name": "#%%\n"
    }
   }
  },
  {
   "cell_type": "code",
   "execution_count": 79,
   "outputs": [
    {
     "name": "stderr",
     "output_type": "stream",
     "text": [
      "100%|██████████| 191/191 [00:02<00:00, 65.14it/s]\n",
      "100%|██████████| 191/191 [00:02<00:00, 66.11it/s]\n"
     ]
    },
    {
     "data": {
      "text/plain": "0"
     },
     "execution_count": 79,
     "metadata": {},
     "output_type": "execute_result"
    }
   ],
   "source": [
    "path = 'src/im5.png'\n",
    "kernel = x_roberts\n",
    "\n",
    "size = 3\n",
    "blur = np.ones((size, size), np.float32) / size ** 2\n",
    "\n",
    "no_int = process(path, kernel, ratio=0.3, interpolate=True)[0]\n",
    "interp = process(path, kernel, ratio=0.3, interpolate=False)[0]\n",
    "\n",
    "show_2(scale(no_int), scale(interp))"
   ],
   "metadata": {
    "collapsed": false,
    "pycharm": {
     "name": "#%%\n"
    }
   }
  }
 ],
 "metadata": {
  "kernelspec": {
   "display_name": "Python 3",
   "language": "python",
   "name": "python3"
  },
  "language_info": {
   "codemirror_mode": {
    "name": "ipython",
    "version": 2
   },
   "file_extension": ".py",
   "mimetype": "text/x-python",
   "name": "python",
   "nbconvert_exporter": "python",
   "pygments_lexer": "ipython2",
   "version": "2.7.6"
  }
 },
 "nbformat": 4,
 "nbformat_minor": 0
}